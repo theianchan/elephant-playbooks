{
 "cells": [
  {
   "cell_type": "markdown",
   "metadata": {},
   "source": [
    "# Remotes\n",
    "\n",
    "If necessary, but discouraged when in same city.\n",
    "\n",
    "# Off-the-Grid\n",
    "\n",
    "Other members to continue if project is timed, otherwise we can decide case-by-case.\n",
    "\n",
    "# Hours\n",
    "\n",
    "* Mondays 630pm - 845pm.\n",
    "* Wednesdays 630pm - 845pm.\n",
    "* Last Sunday of each month 10am - 6pm.\n",
    "\n",
    "# Not-Work\n",
    "\n",
    "At least once a month.\n",
    "\n",
    "# Pairing\n",
    "\n",
    "From [Agile Alliance](https://www.agilealliance.org/glossary/pairing/):\n",
    "\n",
    "> The programmers swap roles every few minutes or so.\n",
    "\n",
    "> At least the driver, and possibly both programmers, are expected to keep up a running commentary; pair programming is also \"programming out loud\" - if the driver is silent, the navigator should intervene.\n",
    "\n",
    "From [Dev Bootcamp](http://blog.devbootcamp.com/2013/2013-04-08-are-you-a-chef-or-the-kool-aid-man-making-the-most-of-pair-programming/):\n",
    "\n",
    "> Prefix the pairing session by setting expectations and goals. It’s easy to assume that everyone you’re pairing with has the same expectations for the pairing session. This is not always the case! I often want to blow through the tasks at hand as quickly as possible; but my pair wants to gain a deeper understanding of the underlying themes or part of the codebase.\n",
    "\n",
    "> Identify your natural inclination. If your pair knows your tendencies, they’ll be more likely to adapt their pairing style to fit your tendencies, and vice versa. Don’t be afraid to say “Hey, I really like to understand what’s happening or I start to panic” or “I can’t stand sitting still for too long or I start to freak out.” Both are reasonable!\n",
    "\n",
    "> If you get left behind ask for the keyboard.\n",
    "\n",
    "From [Medium](https://medium.com/@dickeyxxx/how-to-pair-program-d6741077e513#.2clhyrdl4)\n",
    "\n",
    "> While you are pairing, the number one thing to keep in mind is “Is my pair engaged?” or “Am I engaged with my pair?” usually the person that’s driving will be more engaged, and switching it is one technique to help bring yourself or your pair back into the action.\n",
    "\n",
    "Future reference: \n",
    "* [Common Pairing Pitfalls from The Pragmatic Bookshelf](https://pragprog.com/magazines/2012-03/four-common-pairing-pitfalls-and-how-to-avoid-them)"
   ]
  }
 ],
 "metadata": {
  "kernelspec": {
   "display_name": "Python 2",
   "language": "python",
   "name": "python2"
  },
  "language_info": {
   "codemirror_mode": {
    "name": "ipython",
    "version": 2
   },
   "file_extension": ".py",
   "mimetype": "text/x-python",
   "name": "python",
   "nbconvert_exporter": "python",
   "pygments_lexer": "ipython2",
   "version": "2.7.11"
  }
 },
 "nbformat": 4,
 "nbformat_minor": 0
}
