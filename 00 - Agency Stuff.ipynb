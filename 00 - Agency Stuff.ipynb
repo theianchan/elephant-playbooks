{
 "cells": [
  {
   "cell_type": "markdown",
   "metadata": {},
   "source": [
    "# Remotes\n",
    "\n",
    "If necessary, but discouraged when in same city.\n",
    "\n",
    "# Off-the-Grid\n",
    "\n",
    "If timed work,\n",
    "\n",
    "# Hours\n",
    "\n",
    "* Mondays 630pm - 845pm.\n",
    "* Wednesdays 630pm - 845pm.\n",
    "* Last Sunday of each month 10am - 6pm.\n",
    "\n",
    "# Not-Work\n",
    "\n",
    "At least once a month."
   ]
  }
 ],
 "metadata": {
  "kernelspec": {
   "display_name": "Python 2",
   "language": "python",
   "name": "python2"
  },
  "language_info": {
   "codemirror_mode": {
    "name": "ipython",
    "version": 2
   },
   "file_extension": ".py",
   "mimetype": "text/x-python",
   "name": "python",
   "nbconvert_exporter": "python",
   "pygments_lexer": "ipython2",
   "version": "2.7.11"
  }
 },
 "nbformat": 4,
 "nbformat_minor": 0
}
