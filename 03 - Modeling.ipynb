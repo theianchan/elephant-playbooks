{
 "cells": [
  {
   "cell_type": "markdown",
   "metadata": {},
   "source": [
    "# Choosing a model\n",
    "\n",
    "1. Do you have an output?\n",
    "2. Is your output quantitative or qualitative?\n",
    "3. Is your goal interpretation or prediction?\n",
    "\n",
    "# Handling computationally expensive algorithms\n",
    "\n",
    "* [96-nodes, Postgres](https://databeta.wordpress.com/2009/05/14/bigdata-node-density/)\n",
    "* [Snow and RMPI](https://cran.r-project.org/web/views/HighPerformanceComputing.html)\n",
    "* Hadoop and Mapreduce\n",
    "* Amazon EC2"
   ]
  }
 ],
 "metadata": {
  "kernelspec": {
   "display_name": "Python 2",
   "language": "python",
   "name": "python2"
  },
  "language_info": {
   "codemirror_mode": {
    "name": "ipython",
    "version": 2
   },
   "file_extension": ".py",
   "mimetype": "text/x-python",
   "name": "python",
   "nbconvert_exporter": "python",
   "pygments_lexer": "ipython2",
   "version": "2.7.11"
  }
 },
 "nbformat": 4,
 "nbformat_minor": 0
}
