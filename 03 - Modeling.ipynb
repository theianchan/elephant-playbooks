{
 "cells": [
  {
   "cell_type": "markdown",
   "metadata": {},
   "source": [
    "# Most common ML applications in production today\n",
    "\n",
    "1. Recommenders\n",
    "2. Fraud detection\n",
    "3. Click prediction\n",
    "4. Forecasting\n",
    "5. Churn prediction\n",
    "6. Lead scoring\n",
    "\n",
    "From Carlos Guestrin's [Data Science Summit 2016 Keynote](https://www.youtube.com/watch?v=wLXEJkiTsLc&index=51&list=PLykRMO7ZuHwONAMHcteqniITxlLaZpFoy). Guestrin's point was that you only need to prepare your data sets (customer profile, product details, activity data) once to be able to create all 6 of the above applications.\n",
    "\n",
    "## Feature engineering \n",
    "\n",
    "This probably doesn't even belong here but fuck it. Think in terms of converting activity features into event counts:\n",
    "\n",
    "* **Bought lots of baby products:** count # activity==buy && category==baby\n",
    "* **Bought this item recently & people who buy it, buy again quickly:** last bought < 30 days && count # repeat buy < 30 days\n",
    "* **Clicked on products like this in this section:** count # activity==click && category==baby && session==current\n",
    "\n",
    "**Example:**\n",
    "\n",
    "Initial data (raw activity data):"
   ]
  },
  {
   "cell_type": "code",
   "execution_count": 11,
   "metadata": {
    "collapsed": false
   },
   "outputs": [
    {
     "data": {
      "text/html": [
       "<div>\n",
       "<table border=\"1\" class=\"dataframe\">\n",
       "  <thead>\n",
       "    <tr style=\"text-align: right;\">\n",
       "      <th></th>\n",
       "      <th>action</th>\n",
       "      <th>item</th>\n",
       "      <th>price</th>\n",
       "      <th>timestamp</th>\n",
       "    </tr>\n",
       "  </thead>\n",
       "  <tbody>\n",
       "    <tr>\n",
       "      <th>536365</th>\n",
       "      <td>viewed</td>\n",
       "      <td>Panda</td>\n",
       "      <td>20.99</td>\n",
       "      <td>2016-05-19</td>\n",
       "    </tr>\n",
       "    <tr>\n",
       "      <th>536365</th>\n",
       "      <td>purchased</td>\n",
       "      <td>Elephant</td>\n",
       "      <td>35.99</td>\n",
       "      <td>2016-05-26</td>\n",
       "    </tr>\n",
       "  </tbody>\n",
       "</table>\n",
       "</div>"
      ],
      "text/plain": [
       "           action      item  price  timestamp\n",
       "536365     viewed     Panda  20.99 2016-05-19\n",
       "536365  purchased  Elephant  35.99 2016-05-26"
      ]
     },
     "execution_count": 11,
     "metadata": {},
     "output_type": "execute_result"
    }
   ],
   "source": [
    "import pandas as pd\n",
    "\n",
    "user_id = [536365, 536365]\n",
    "raw_activity_data = pd.DataFrame({\n",
    "        'timestamp': [pd.Timestamp('20160519'), pd.Timestamp('20160526')],\n",
    "        'action': ['viewed', 'purchased'],\n",
    "        'item': ['Panda', 'Elephant'],\n",
    "        'price': [20.99, 35.99]\n",
    "    }, index = user_id)\n",
    "\n",
    "raw_activity_data"
   ]
  },
  {
   "cell_type": "markdown",
   "metadata": {},
   "source": [
    "Post-transformation (training features: counts)"
   ]
  },
  {
   "cell_type": "code",
   "execution_count": 12,
   "metadata": {
    "collapsed": false
   },
   "outputs": [
    {
     "data": {
      "text/html": [
       "<div>\n",
       "<table border=\"1\" class=\"dataframe\">\n",
       "  <thead>\n",
       "    <tr style=\"text-align: right;\">\n",
       "      <th></th>\n",
       "      <th># events in last 30 days</th>\n",
       "      <th># events in last 60 days</th>\n",
       "      <th># events in last 90 days</th>\n",
       "      <th>days since recent event</th>\n",
       "    </tr>\n",
       "  </thead>\n",
       "  <tbody>\n",
       "    <tr>\n",
       "      <th>536365</th>\n",
       "      <td>0</td>\n",
       "      <td>64</td>\n",
       "      <td>92</td>\n",
       "      <td>32</td>\n",
       "    </tr>\n",
       "  </tbody>\n",
       "</table>\n",
       "</div>"
      ],
      "text/plain": [
       "        # events in last 30 days  # events in last 60 days  \\\n",
       "536365                         0                        64   \n",
       "\n",
       "        # events in last 90 days  days since recent event  \n",
       "536365                        92                       32  "
      ]
     },
     "execution_count": 12,
     "metadata": {},
     "output_type": "execute_result"
    }
   ],
   "source": [
    "user_id = [536365]\n",
    "training_features_count = pd.DataFrame({\n",
    "        'days since recent event': 32,\n",
    "        '# events in last 30 days': 0,\n",
    "        '# events in last 60 days': 64,\n",
    "        '# events in last 90 days': 92\n",
    "    }, index = user_id)\n",
    "\n",
    "training_features_count"
   ]
  },
  {
   "cell_type": "markdown",
   "metadata": {},
   "source": [
    "The idea is to eventually create reusable feature engineering pipelines.\n",
    "\n",
    "Deciding what activities to count can be done manually... Or automatically.\n",
    "\n",
    "** Input counts > Learn boosted trees from counts > Use decision paths in trees to define important non-linear count features** \n",
    "\n",
    "(This is a common technique I guess.)"
   ]
  },
  {
   "cell_type": "markdown",
   "metadata": {},
   "source": [
    "# Choosing a model\n",
    "\n",
    "1. Do you have an output?\n",
    "2. Is your output quantitative or qualitative?\n",
    "3. Is your goal interpretation or prediction?\n",
    "\n",
    "# Handling computationally expensive algorithms\n",
    "\n",
    "* [96-nodes, Postgres](https://databeta.wordpress.com/2009/05/14/bigdata-node-density/)\n",
    "* [Snow and RMPI](https://cran.r-project.org/web/views/HighPerformanceComputing.html)\n",
    "* Hadoop and Mapreduce\n",
    "* Amazon EC2"
   ]
  }
 ],
 "metadata": {
  "kernelspec": {
   "display_name": "Python 2",
   "language": "python",
   "name": "python2"
  },
  "language_info": {
   "codemirror_mode": {
    "name": "ipython",
    "version": 2
   },
   "file_extension": ".py",
   "mimetype": "text/x-python",
   "name": "python",
   "nbconvert_exporter": "python",
   "pygments_lexer": "ipython2",
   "version": "2.7.11"
  }
 },
 "nbformat": 4,
 "nbformat_minor": 0
}
