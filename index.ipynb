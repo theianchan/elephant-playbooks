{
 "cells": [
  {
   "cell_type": "markdown",
   "metadata": {},
   "source": [
    "# Playbooks\n",
    "\n",
    "1. [Client Relations](http://nbviewer.jupyter.org/github/theianchan/elephant-playbooks/blob/master/01%20-%20Client%20Relations.ipynb)\n",
    "2. [Data Preparation](http://nbviewer.jupyter.org/github/theianchan/elephant-playbooks/blob/master/02%20-%20Data%20Preparation.ipynb)\n",
    "3. [Modeling](http://nbviewer.jupyter.org/github/theianchan/elephant-playbooks/blob/master/03%20-%20Modeling.ipynb)\n",
    "4. [Presentation and Implementation](http://nbviewer.jupyter.org/github/theianchan/elephant-playbooks/blob/master/04%20-%20Presentation%20and%20Implementation.ipynb)\n",
    "\n",
    "## Other\n",
    "\n",
    "[Agency Stuff](http://nbviewer.jupyter.org/github/theianchan/elephant-playbooks/blob/master/00%20-%20Agency%20Stuff.ipynb)"
   ]
  }
 ],
 "metadata": {
  "kernelspec": {
   "display_name": "Python 2",
   "language": "python",
   "name": "python2"
  },
  "language_info": {
   "codemirror_mode": {
    "name": "ipython",
    "version": 2
   },
   "file_extension": ".py",
   "mimetype": "text/x-python",
   "name": "python",
   "nbconvert_exporter": "python",
   "pygments_lexer": "ipython2",
   "version": "2.7.11"
  }
 },
 "nbformat": 4,
 "nbformat_minor": 0
}
