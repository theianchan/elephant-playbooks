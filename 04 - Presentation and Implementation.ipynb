{
 "cells": [
  {
   "cell_type": "markdown",
   "metadata": {},
   "source": [
    "# Client communication\n",
    "\n",
    "This section was mostly inspired by notes taken from Max Shron’s [talk for the NYC Data Science meetup](https://vimeo.com/98768831).\n",
    "\n",
    "## Arguments\n",
    "\n",
    "Data is not a ray gun that you shoot someone with to make them agree with you. An act of conviction has to take place.\n",
    "\n",
    "The graphs that we output, for example, are an act of communication. If we don’t understand how people learn from the things we do, then we’re not going to be able to do them very well. \n",
    "\n",
    "Data science is full of deciding definitions. We can call a certain subset of economic outcomes ‘poverty’ and a certain class of acts ‘terrorism’ and we have to explain why we think our definitions are justified.\n",
    "\n",
    "**Example:**\n",
    "\n",
    "**Project:** Predicting changes in poverty with satellite data.\n",
    "Poverty estimates typically take 5-10 years (best case). The target outcome was to informally guide policy decisions (this is different from making an argument that convinces every PhD that satellite data is the definitive way to predict changes in poverty), while keeping track of interventions.\n",
    "\n",
    "**Claim:** Poverty can be modeled effectively with satellite data.\n",
    "The data part - counts, models, graphs, CV score, MSE - will form the evidence to support that claim.\n",
    "\n",
    "Come up with like 20 reasons why your analysis might be wrong, and think through them (even if you can’t refute them all completely), before your discussion ever starts.\n",
    "\n",
    "### Categories of dispute\n",
    "\n",
    "**Disputes of fact:** Getting the details straight.\n",
    "What is a reasonable truth condition? Is the condition satisfied?\n",
    "\n",
    "**Disputes of definition:** Relating words to the math.\n",
    "Does this definition make a useful distinction? How consistent is this definition with prior ideas? What, if any, are the reasonable alternatives?\n",
    "\n",
    "**Disputes of value:** Making the right trade-offs.\n",
    "How do our goals determine which values are most important? Have the values been properly applied here?\n",
    "\n",
    "**Disputes of policy:** The right course of action.\n",
    "Is there a problem? Where is credit or blame due? Will the proposal solve it? Will it be better on balance?"
   ]
  },
  {
   "cell_type": "markdown",
   "metadata": {},
   "source": [
    "# Correlation and causation\n",
    "\n",
    "During his talk, Shron went on a tangent about correlation and causation that is absolutely critical reading:\n",
    "\n",
    "> Whether or not you think your work is casual, if you are doing any work with data and somebody else is reading what you’ve done, they will interpret it causally. You cannot get around that. \n",
    "\n",
    "> Everybody will always make a story out of what you told them that convinces them they understand how the world works, and so it behooves you to do your damndest to meet that expectation. \n",
    "\n",
    "> It is not good enough to say, “I’m sorry, correlation does not equal causation. I’m just going to give you the R-squared values and call it a day.” You are abdicating your duty - you are neglecting what you should be doing; you’re doing it wrong, you’re not doing it right if you are not constantly thinking about how the models you make and the work you do fits into how the world actually works. \n",
    "\n",
    "> Now, it may be that you legitimately can’t capture any of that, but if you believe that the only kinds of causal statements that are valid are causal statements made from randomized controlled trials, you should read some of the literature on all of sociology, psychology, or quantitative history. \n",
    "\n",
    "> There is an enormous number of work out there on how we think about causal relationships with only observational data. Sometimes it’s better, sometimes it’s worse. Sometimes we can ask questions before and after and make comparisons; sometimes we can’t. \n",
    "\n",
    "> [...]\n",
    "\n",
    "> How do you actually make statements that are justifiable about causation when you don’t have randomized experiments? It can be done, and it is done all the time, and you should be doing it. "
   ]
  },
  {
   "cell_type": "markdown",
   "metadata": {},
   "source": [
    "# Visualisation\n",
    "Turns out THERE IS A WAY TO AUTOMATICALLY GENERATE SLIDES FROM A NOTEBOOK\n",
    "\n",
    "HAMEDDDDDDD\n",
    "\n",
    "(This guy uses it in [his presentation](https://github.com/jbarratt/ipython_notebook_presentation))"
   ]
  },
  {
   "cell_type": "markdown",
   "metadata": {},
   "source": [
    "# Building with client systems\n",
    "\n",
    "Again, deferring to [Julia Evans](http://jvns.ca/blog/2014/06/19/machine-learning-isnt-kaggle-competitions/):\n",
    "\n",
    "> Netflix didn't actually implement the model that won the Netflix competition because it was too complicated.\n",
    "\n",
    "> If you trained your model in Python, can you run it in production in Python? How fast does it need to be able to return results? Are you running a model that bids on advertising spots / does high frequency trading?\n",
    "\n",
    "> If we're predicting flight delays, it's probably okay for our model to run somewhat slowly.\n",
    "\n",
    "> Another surprisingly difficult thing is gathering the data to evaluate your model -- getting historical weather data is one thing, but getting that same data in real time to predict flight delays right now is totally different.\n",
    "\n",
    "# Measure performance\n",
    "\n",
    "WIP"
   ]
  },
  {
   "cell_type": "markdown",
   "metadata": {},
   "source": [
    "# Resources\n",
    "## Reading\n",
    "### Books\n",
    "1. Counterfactuals and Causal Models - [https://smile.amazon.com/Counterfactuals-Causal-Inference-Principles-Analytical/dp/0521671930](https://smile.amazon.com/Counterfactuals-Causal-Inference-Principles-Analytical/dp/0521671930)\n",
    "\n",
    "## Tools\n",
    "1. Processing - [https://processing.org/](https://processing.org/)\n",
    "2. Flare - [http://flare.prefuse.org/](http://flare.prefuse.org/)"
   ]
  }
 ],
 "metadata": {
  "kernelspec": {
   "display_name": "Python 2",
   "language": "python",
   "name": "python2"
  },
  "language_info": {
   "codemirror_mode": {
    "name": "ipython",
    "version": 2
   },
   "file_extension": ".py",
   "mimetype": "text/x-python",
   "name": "python",
   "nbconvert_exporter": "python",
   "pygments_lexer": "ipython2",
   "version": "2.7.11"
  }
 },
 "nbformat": 4,
 "nbformat_minor": 0
}
